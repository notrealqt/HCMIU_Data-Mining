{
 "cells": [
  {
   "cell_type": "code",
   "id": "initial_id",
   "metadata": {
    "collapsed": true,
    "ExecuteTime": {
     "end_time": "2025-03-27T04:15:09.971009Z",
     "start_time": "2025-03-27T04:15:08.992279Z"
    }
   },
   "source": [
    "import pandas as pd\n",
    "import numpy as np\n",
    "data_game= pd.read_csv(\"steam_game_descriptions_all.csv\")\n",
    "# Calculate the number of rows for each part\n",
    "num_parts = 2\n",
    "rows_per_part = int(np.ceil(len(data_game) / num_parts))\n",
    "\n",
    "# Split the data into two parts and save as separate CSV files\n",
    "for i in range(num_parts):\n",
    "    start_row = i * rows_per_part\n",
    "    end_row = start_row + rows_per_part\n",
    "    part = data_game.iloc[start_row:end_row]\n",
    "    part.to_csv(f\"steam_game_descriptions_part_{i+1}.csv\", index=False)\n",
    "\n",
    "print(f'Data split into {num_parts} parts and saved as separate CSV files.')"
   ],
   "outputs": [
    {
     "name": "stdout",
     "output_type": "stream",
     "text": [
      "Data split into 2 parts and saved as separate CSV files.\n"
     ]
    }
   ],
   "execution_count": 4
  },
  {
   "metadata": {},
   "cell_type": "code",
   "outputs": [],
   "execution_count": null,
   "source": "",
   "id": "144753a1ea52e79e"
  }
 ],
 "metadata": {
  "kernelspec": {
   "display_name": "Python 3",
   "language": "python",
   "name": "python3"
  },
  "language_info": {
   "codemirror_mode": {
    "name": "ipython",
    "version": 2
   },
   "file_extension": ".py",
   "mimetype": "text/x-python",
   "name": "python",
   "nbconvert_exporter": "python",
   "pygments_lexer": "ipython2",
   "version": "2.7.6"
  }
 },
 "nbformat": 4,
 "nbformat_minor": 5
}
