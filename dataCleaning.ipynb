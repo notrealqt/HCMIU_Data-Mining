{
 "cells": [
  {
   "cell_type": "code",
   "id": "initial_id",
   "metadata": {
    "collapsed": true,
    "ExecuteTime": {
     "end_time": "2025-03-05T04:10:23.803733Z",
     "start_time": "2025-03-05T04:10:23.378858Z"
    }
   },
   "source": [
    "import pandas as pd\n",
    "data= pd.read_csv(\"steam_game_descriptions_test_20250304_222258.csv\")\n",
    "data.isnull().sum()"
   ],
   "outputs": [
    {
     "data": {
      "text/plain": [
       "app_id                0\n",
       "name               6102\n",
       "tags               6165\n",
       "popular_tags       6158\n",
       "all_reviews       14239\n",
       "all_percent        6095\n",
       "all_count         25151\n",
       "release_date       6184\n",
       "developer          7004\n",
       "publisher          9458\n",
       "price             11773\n",
       "description       13925\n",
       "recent_reviews    50000\n",
       "recent_percent    50000\n",
       "recent_count      50000\n",
       "dtype: int64"
      ]
     },
     "execution_count": 35,
     "metadata": {},
     "output_type": "execute_result"
    }
   ],
   "execution_count": 35
  },
  {
   "metadata": {
    "ExecuteTime": {
     "end_time": "2025-03-05T04:10:26.976988Z",
     "start_time": "2025-03-05T04:10:26.950308Z"
    }
   },
   "cell_type": "code",
   "source": "data.drop(columns=[\"recent_reviews\",\"recent_percent\",\"recent_count\"], inplace=True)",
   "id": "82691cd360dca5d7",
   "outputs": [],
   "execution_count": 36
  },
  {
   "metadata": {
    "ExecuteTime": {
     "end_time": "2025-03-05T04:10:29.186193Z",
     "start_time": "2025-03-05T04:10:29.142865Z"
    }
   },
   "cell_type": "code",
   "source": [
    "# Define columns to exclude from null value dropping\n",
    "exclude_columns = [\"all_reviews\", \"all_percent\", \"all_count\", \"release_date\", \"developer\", \"publisher\"]\n",
    "\n",
    "# Drop null values except in the specified columns\n",
    "data.dropna(subset=[col for col in data.columns if col not in exclude_columns], inplace=True)"
   ],
   "id": "111808ab3e790187",
   "outputs": [],
   "execution_count": 37
  },
  {
   "metadata": {
    "ExecuteTime": {
     "end_time": "2025-03-05T04:10:30.942083Z",
     "start_time": "2025-03-05T04:10:30.913494Z"
    }
   },
   "cell_type": "code",
   "source": "data.count()",
   "id": "c592b88afcaa9247",
   "outputs": [
    {
     "data": {
      "text/plain": [
       "app_id          28537\n",
       "name            28537\n",
       "tags            28537\n",
       "popular_tags    28537\n",
       "all_reviews     27140\n",
       "all_percent     28537\n",
       "all_count       20075\n",
       "release_date    28526\n",
       "developer       28221\n",
       "publisher       28002\n",
       "price           28537\n",
       "description     28537\n",
       "dtype: int64"
      ]
     },
     "execution_count": 38,
     "metadata": {},
     "output_type": "execute_result"
    }
   ],
   "execution_count": 38
  },
  {
   "metadata": {
    "ExecuteTime": {
     "end_time": "2025-03-05T04:26:31.698335Z",
     "start_time": "2025-03-05T04:26:31.359130Z"
    }
   },
   "cell_type": "code",
   "source": "data.to_csv(\"steam_game_descriptions_test_20250304_222258_dropAllNull.csv\", index=False)",
   "id": "882b18190de10bed",
   "outputs": [],
   "execution_count": 40
  },
  {
   "metadata": {
    "ExecuteTime": {
     "end_time": "2025-03-05T04:26:34.909080Z",
     "start_time": "2025-03-05T04:26:34.424048Z"
    }
   },
   "cell_type": "code",
   "source": [
    "data_1= pd.read_csv(\"steam_game_descriptions_test_20250304_125622.csv\")\n",
    "data_1.isnull().sum()"
   ],
   "id": "ea9a186626b40747",
   "outputs": [
    {
     "data": {
      "text/plain": [
       "app_id              0\n",
       "name             4044\n",
       "tags             4098\n",
       "popular_tags     4095\n",
       "all_reviews     25671\n",
       "all_percent      4039\n",
       "all_count       36594\n",
       "release_date     4045\n",
       "developer        4075\n",
       "publisher        5703\n",
       "price           21525\n",
       "description      9900\n",
       "dtype: int64"
      ]
     },
     "execution_count": 41,
     "metadata": {},
     "output_type": "execute_result"
    }
   ],
   "execution_count": 41
  },
  {
   "metadata": {
    "ExecuteTime": {
     "end_time": "2025-03-05T04:26:59.253026Z",
     "start_time": "2025-03-05T04:26:59.209108Z"
    }
   },
   "cell_type": "code",
   "source": "data_1.dropna(subset=[col for col in data.columns if col not in exclude_columns], inplace=True)",
   "id": "9b5419af5f050513",
   "outputs": [],
   "execution_count": 42
  },
  {
   "metadata": {
    "ExecuteTime": {
     "end_time": "2025-03-05T04:27:00.876130Z",
     "start_time": "2025-03-05T04:27:00.842608Z"
    }
   },
   "cell_type": "code",
   "source": "data_1.count()",
   "id": "eb8aca7d01a56275",
   "outputs": [
    {
     "data": {
      "text/plain": [
       "app_id          22386\n",
       "name            22386\n",
       "tags            22386\n",
       "popular_tags    22386\n",
       "all_reviews     19523\n",
       "all_percent     22386\n",
       "all_count       10777\n",
       "release_date    22386\n",
       "developer       22369\n",
       "publisher       22320\n",
       "price           22386\n",
       "description     22386\n",
       "dtype: int64"
      ]
     },
     "execution_count": 43,
     "metadata": {},
     "output_type": "execute_result"
    }
   ],
   "execution_count": 43
  },
  {
   "metadata": {
    "ExecuteTime": {
     "end_time": "2025-03-05T04:48:47.312719Z",
     "start_time": "2025-03-05T04:48:47.033012Z"
    }
   },
   "cell_type": "code",
   "source": "data_1.to_csv(\"steam_game_descriptions_test_20250304_125622_dropAllNull.csv\", index=False)",
   "id": "7f8321054fb27983",
   "outputs": [],
   "execution_count": 44
  },
  {
   "metadata": {
    "ExecuteTime": {
     "end_time": "2025-03-05T09:44:36.447801Z",
     "start_time": "2025-03-05T09:44:33.915231Z"
    }
   },
   "cell_type": "code",
   "source": [
    "data_review1=pd.read_csv(\"steam_game_reviews_all_20250305_074718.csv\")\n",
    "data_review2=pd.read_csv(\"steam_game_reviews_all_20250305_144100.csv\")\n",
    "data_review=pd.concat([data_review1,data_review2])"
   ],
   "id": "419007bbed086f1f",
   "outputs": [],
   "execution_count": 48
  },
  {
   "metadata": {
    "ExecuteTime": {
     "end_time": "2025-03-05T09:45:17.330696Z",
     "start_time": "2025-03-05T09:45:13.471957Z"
    }
   },
   "cell_type": "code",
   "source": [
    "import numpy as np\n",
    "\n",
    "num_parts = 9\n",
    "rows_per_part = int(np.ceil(len(data_review) / num_parts))\n",
    "\n",
    "for i in range(num_parts):\n",
    "    start_row = i * rows_per_part\n",
    "    end_row = start_row + rows_per_part\n",
    "    part = data_review.iloc[start_row:end_row]\n",
    "    part.to_csv(f\"steam_game_reviews_part_{i+1}.csv\", index=False)\n",
    "\n",
    "print(f\"Data split into {num_parts} parts and saved as separate CSV files.\")"
   ],
   "id": "168fdaf24e02e296",
   "outputs": [
    {
     "name": "stdout",
     "output_type": "stream",
     "text": [
      "Data split into 9 parts and saved as separate CSV files.\n"
     ]
    }
   ],
   "execution_count": 50
  },
  {
   "metadata": {},
   "cell_type": "code",
   "outputs": [],
   "execution_count": null,
   "source": "",
   "id": "d6061caade0f64c2"
  }
 ],
 "metadata": {
  "kernelspec": {
   "display_name": "Python 3",
   "language": "python",
   "name": "python3"
  },
  "language_info": {
   "codemirror_mode": {
    "name": "ipython",
    "version": 2
   },
   "file_extension": ".py",
   "mimetype": "text/x-python",
   "name": "python",
   "nbconvert_exporter": "python",
   "pygments_lexer": "ipython2",
   "version": "2.7.6"
  }
 },
 "nbformat": 4,
 "nbformat_minor": 5
}
