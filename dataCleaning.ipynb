{
 "cells": [
  {
   "cell_type": "code",
   "id": "initial_id",
   "metadata": {
    "collapsed": true,
    "ExecuteTime": {
     "end_time": "2025-03-22T04:37:13.207032Z",
     "start_time": "2025-03-22T04:37:09.816254Z"
    }
   },
   "source": [
    "import pandas as pd\n",
    "data= pd.read_csv(\"game/steam_game_descriptions_test_20250304_222258.csv\")\n",
    "data.isnull().sum()"
   ],
   "outputs": [
    {
     "data": {
      "text/plain": [
       "app_id                0\n",
       "name               6102\n",
       "tags               6165\n",
       "popular_tags       6158\n",
       "all_reviews       14239\n",
       "all_percent        6095\n",
       "all_count         25151\n",
       "release_date       6184\n",
       "developer          7004\n",
       "publisher          9458\n",
       "price             11773\n",
       "description       13925\n",
       "recent_reviews    50000\n",
       "recent_percent    50000\n",
       "recent_count      50000\n",
       "dtype: int64"
      ]
     },
     "execution_count": 1,
     "metadata": {},
     "output_type": "execute_result"
    }
   ],
   "execution_count": 1
  },
  {
   "metadata": {
    "ExecuteTime": {
     "end_time": "2025-03-05T04:10:26.976988Z",
     "start_time": "2025-03-05T04:10:26.950308Z"
    }
   },
   "cell_type": "code",
   "source": "data.drop(columns=[\"recent_reviews\",\"recent_percent\",\"recent_count\"], inplace=True)",
   "id": "82691cd360dca5d7",
   "outputs": [],
   "execution_count": 36
  },
  {
   "metadata": {
    "ExecuteTime": {
     "end_time": "2025-03-05T04:10:29.186193Z",
     "start_time": "2025-03-05T04:10:29.142865Z"
    }
   },
   "cell_type": "code",
   "source": [
    "# Define columns to exclude from null value dropping\n",
    "exclude_columns = [\"all_reviews\", \"all_percent\", \"all_count\", \"release_date\", \"developer\", \"publisher\"]\n",
    "\n",
    "# Drop null values except in the specified columns\n",
    "data.dropna(subset=[col for col in data.columns if col not in exclude_columns], inplace=True)"
   ],
   "id": "111808ab3e790187",
   "outputs": [],
   "execution_count": 37
  },
  {
   "metadata": {
    "ExecuteTime": {
     "end_time": "2025-03-05T04:10:30.942083Z",
     "start_time": "2025-03-05T04:10:30.913494Z"
    }
   },
   "cell_type": "code",
   "source": "data.count()",
   "id": "c592b88afcaa9247",
   "outputs": [
    {
     "data": {
      "text/plain": [
       "app_id          28537\n",
       "name            28537\n",
       "tags            28537\n",
       "popular_tags    28537\n",
       "all_reviews     27140\n",
       "all_percent     28537\n",
       "all_count       20075\n",
       "release_date    28526\n",
       "developer       28221\n",
       "publisher       28002\n",
       "price           28537\n",
       "description     28537\n",
       "dtype: int64"
      ]
     },
     "execution_count": 38,
     "metadata": {},
     "output_type": "execute_result"
    }
   ],
   "execution_count": 38
  },
  {
   "metadata": {
    "ExecuteTime": {
     "end_time": "2025-03-05T04:26:31.698335Z",
     "start_time": "2025-03-05T04:26:31.359130Z"
    }
   },
   "cell_type": "code",
   "source": "data.to_csv(\"steam_game_descriptions_test_20250304_222258_dropAllNull.csv\", index=False)",
   "id": "882b18190de10bed",
   "outputs": [],
   "execution_count": 40
  },
  {
   "metadata": {
    "ExecuteTime": {
     "end_time": "2025-03-05T04:26:34.909080Z",
     "start_time": "2025-03-05T04:26:34.424048Z"
    }
   },
   "cell_type": "code",
   "source": [
    "data_1= pd.read_csv(\"game/steam_game_descriptions_test_20250304_125622.csv\")\n",
    "data_1.isnull().sum()"
   ],
   "id": "ea9a186626b40747",
   "outputs": [
    {
     "data": {
      "text/plain": [
       "app_id              0\n",
       "name             4044\n",
       "tags             4098\n",
       "popular_tags     4095\n",
       "all_reviews     25671\n",
       "all_percent      4039\n",
       "all_count       36594\n",
       "release_date     4045\n",
       "developer        4075\n",
       "publisher        5703\n",
       "price           21525\n",
       "description      9900\n",
       "dtype: int64"
      ]
     },
     "execution_count": 41,
     "metadata": {},
     "output_type": "execute_result"
    }
   ],
   "execution_count": 41
  },
  {
   "metadata": {
    "ExecuteTime": {
     "end_time": "2025-03-05T04:26:59.253026Z",
     "start_time": "2025-03-05T04:26:59.209108Z"
    }
   },
   "cell_type": "code",
   "source": "data_1.dropna(subset=[col for col in data.columns if col not in exclude_columns], inplace=True)",
   "id": "9b5419af5f050513",
   "outputs": [],
   "execution_count": 42
  },
  {
   "metadata": {
    "ExecuteTime": {
     "end_time": "2025-03-05T04:27:00.876130Z",
     "start_time": "2025-03-05T04:27:00.842608Z"
    }
   },
   "cell_type": "code",
   "source": "data_1.count()",
   "id": "eb8aca7d01a56275",
   "outputs": [
    {
     "data": {
      "text/plain": [
       "app_id          22386\n",
       "name            22386\n",
       "tags            22386\n",
       "popular_tags    22386\n",
       "all_reviews     19523\n",
       "all_percent     22386\n",
       "all_count       10777\n",
       "release_date    22386\n",
       "developer       22369\n",
       "publisher       22320\n",
       "price           22386\n",
       "description     22386\n",
       "dtype: int64"
      ]
     },
     "execution_count": 43,
     "metadata": {},
     "output_type": "execute_result"
    }
   ],
   "execution_count": 43
  },
  {
   "metadata": {
    "ExecuteTime": {
     "end_time": "2025-03-05T04:48:47.312719Z",
     "start_time": "2025-03-05T04:48:47.033012Z"
    }
   },
   "cell_type": "code",
   "source": "data_1.to_csv(\"steam_game_descriptions_test_20250304_125622_dropAllNull.csv\", index=False)",
   "id": "7f8321054fb27983",
   "outputs": [],
   "execution_count": 44
  },
  {
   "metadata": {
    "ExecuteTime": {
     "end_time": "2025-03-22T04:37:39.804567Z",
     "start_time": "2025-03-22T04:37:36.945722Z"
    }
   },
   "cell_type": "code",
   "source": [
    "data_review1=pd.read_csv(\"review/steam_game_reviews_all_20250305_074718.csv\")\n",
    "data_review2=pd.read_csv(\"review/steam_game_reviews_all_20250305_144100.csv\")\n",
    "data_review=pd.concat([data_review1,data_review2])\n",
    "data_review.count()"
   ],
   "id": "fce58a6cba34479f",
   "outputs": [
    {
     "data": {
      "text/plain": [
       "app_id                 322307\n",
       "recommendationid       322307\n",
       "review                 322006\n",
       "voted_up               322307\n",
       "timestamp_created      322307\n",
       "playtime_forever       322304\n",
       "weighted_vote_score    322307\n",
       "votes_up               322307\n",
       "steamid                322307\n",
       "dtype: int64"
      ]
     },
     "execution_count": 3,
     "metadata": {},
     "output_type": "execute_result"
    }
   ],
   "execution_count": 3
  },
  {
   "metadata": {
    "ExecuteTime": {
     "end_time": "2025-03-22T04:39:20.507515Z",
     "start_time": "2025-03-22T04:39:20.453065Z"
    }
   },
   "cell_type": "code",
   "source": "data_review.isnull().sum()",
   "id": "375f2ab7390fa077",
   "outputs": [
    {
     "data": {
      "text/plain": [
       "app_id                   0\n",
       "recommendationid         0\n",
       "review                 301\n",
       "voted_up                 0\n",
       "timestamp_created        0\n",
       "playtime_forever         3\n",
       "weighted_vote_score      0\n",
       "votes_up                 0\n",
       "steamid                  0\n",
       "dtype: int64"
      ]
     },
     "execution_count": 4,
     "metadata": {},
     "output_type": "execute_result"
    }
   ],
   "execution_count": 4
  },
  {
   "metadata": {
    "ExecuteTime": {
     "end_time": "2025-03-22T04:40:32.109407Z",
     "start_time": "2025-03-22T04:40:32.012735Z"
    }
   },
   "cell_type": "code",
   "source": "data_review.dropna(subset=[\"review\",\"playtime_forever\"], inplace=True)",
   "id": "3a1e119a717694b",
   "outputs": [],
   "execution_count": 5
  },
  {
   "metadata": {
    "ExecuteTime": {
     "end_time": "2025-03-22T04:40:49.480394Z",
     "start_time": "2025-03-22T04:40:49.421310Z"
    }
   },
   "cell_type": "code",
   "source": "data_review.isnull().sum()",
   "id": "143657b55a08c5aa",
   "outputs": [
    {
     "data": {
      "text/plain": [
       "app_id                 0\n",
       "recommendationid       0\n",
       "review                 0\n",
       "voted_up               0\n",
       "timestamp_created      0\n",
       "playtime_forever       0\n",
       "weighted_vote_score    0\n",
       "votes_up               0\n",
       "steamid                0\n",
       "dtype: int64"
      ]
     },
     "execution_count": 7,
     "metadata": {},
     "output_type": "execute_result"
    }
   ],
   "execution_count": 7
  },
  {
   "metadata": {
    "ExecuteTime": {
     "end_time": "2025-03-22T04:41:05.069950Z",
     "start_time": "2025-03-22T04:41:05.049999Z"
    }
   },
   "cell_type": "code",
   "source": "data_review.count",
   "id": "336217fcb650e013",
   "outputs": [
    {
     "data": {
      "text/plain": [
       "<bound method DataFrame.count of         app_id  recommendationid  \\\n",
       "0      2686990         152851098   \n",
       "1      2686990         163997328   \n",
       "2      2686980         180252847   \n",
       "3      2687000         185616026   \n",
       "4      2686950         187429815   \n",
       "...        ...               ...   \n",
       "63006  2686750         153767474   \n",
       "63007  2686750         153764114   \n",
       "63008  2686750         153739215   \n",
       "63009  2686750         153737714   \n",
       "63010  2686750         153726923   \n",
       "\n",
       "                                                  review  voted_up  \\\n",
       "0      This game right here people...  THIS LITTLE AM...      True   \n",
       "1                                           Recommended.      True   \n",
       "2      If you like Watermelon Game but are into space...      True   \n",
       "3      i peed myself playing this. 10/10. fairly good...      True   \n",
       "4        Super fun platformer! Really funny writing too!      True   \n",
       "...                                                  ...       ...   \n",
       "63006  Great game to my surprise ! Waaaaaaaaaaaaaaaaa...      True   \n",
       "63007  This game made me deliciously tilted. I’ve bee...      True   \n",
       "63008  Really great game, really engaging, definitly ...      True   \n",
       "63009  The aesthetic of the game is beautiful! It's h...      True   \n",
       "63010                             my friend made is cool      True   \n",
       "\n",
       "       timestamp_created  playtime_forever  weighted_vote_score  votes_up  \\\n",
       "0             1701667101             589.0             0.345303         4   \n",
       "1             1714578984              93.0             0.500000         0   \n",
       "2             1732770815              89.0             0.500000         0   \n",
       "3             1736903148              13.0             0.500000         0   \n",
       "4             1738982393               7.0             0.523810         4   \n",
       "...                  ...               ...                  ...       ...   \n",
       "63006         1702792096             192.0             0.500000         2   \n",
       "63007         1702787552             701.0             0.500000         3   \n",
       "63008         1702757487             962.0             0.500000         3   \n",
       "63009         1702755996             179.0             0.500000         3   \n",
       "63010         1702745420              23.0             0.500000         2   \n",
       "\n",
       "                 steamid  \n",
       "0      76561198053422627  \n",
       "1      76561198104503662  \n",
       "2      76561198066151919  \n",
       "3      76561199411862329  \n",
       "4      76561198088325844  \n",
       "...                  ...  \n",
       "63006  76561198163442510  \n",
       "63007  76561199087582538  \n",
       "63008  76561199032580655  \n",
       "63009  76561198175320398  \n",
       "63010  76561198451685253  \n",
       "\n",
       "[322003 rows x 9 columns]>"
      ]
     },
     "execution_count": 8,
     "metadata": {},
     "output_type": "execute_result"
    }
   ],
   "execution_count": 8
  },
  {
   "metadata": {
    "ExecuteTime": {
     "end_time": "2025-03-22T04:45:37.213269Z",
     "start_time": "2025-03-22T04:45:33.595516Z"
    }
   },
   "cell_type": "code",
   "source": "data_review.to_csv(\"review/steam_game_reviews_all.csv\", index=False)",
   "id": "7392deb6a5986694",
   "outputs": [],
   "execution_count": 11
  },
  {
   "metadata": {
    "ExecuteTime": {
     "end_time": "2025-03-22T04:42:14.550094Z",
     "start_time": "2025-03-22T04:42:10.963035Z"
    }
   },
   "cell_type": "code",
   "source": [
    "import numpy as np\n",
    "\n",
    "num_parts = 9\n",
    "rows_per_part = int(np.ceil(len(data_review) / num_parts))\n",
    "\n",
    "for i in range(num_parts):\n",
    "    start_row = i * rows_per_part\n",
    "    end_row = start_row + rows_per_part\n",
    "    part = data_review.iloc[start_row:end_row]\n",
    "    part.to_csv(f\"review/steam_game_reviews_part_{i+1}.csv\", index=False)\n",
    "\n",
    "print(f\"Data split into {num_parts} parts and saved as separate CSV files.\")"
   ],
   "id": "a5513c7e2b204c58",
   "outputs": [
    {
     "name": "stdout",
     "output_type": "stream",
     "text": [
      "Data split into 9 parts and saved as separate CSV files.\n"
     ]
    }
   ],
   "execution_count": 9
  },
  {
   "metadata": {
    "ExecuteTime": {
     "end_time": "2025-03-22T04:43:01.638231Z",
     "start_time": "2025-03-22T04:43:00.607539Z"
    }
   },
   "cell_type": "code",
   "source": [
    "data_game1=pd.read_csv(\"game/steam_game_descriptions_test_20250304_125622_dropAllNull.csv\")\n",
    "data_game2=pd.read_csv(\"game/steam_game_descriptions_test_20250304_222258_dropAllNull.csv\")\n",
    "data_game=pd.concat([data_game1,data_game2])\n",
    "data_game.to_csv(\"game/steam_game_descriptions_all.csv\", index=False)"
   ],
   "id": "8152743e34da3879",
   "outputs": [],
   "execution_count": 10
  }
 ],
 "metadata": {
  "kernelspec": {
   "display_name": "Python 3",
   "language": "python",
   "name": "python3"
  },
  "language_info": {
   "codemirror_mode": {
    "name": "ipython",
    "version": 2
   },
   "file_extension": ".py",
   "mimetype": "text/x-python",
   "name": "python",
   "nbconvert_exporter": "python",
   "pygments_lexer": "ipython2",
   "version": "2.7.6"
  }
 },
 "nbformat": 4,
 "nbformat_minor": 5
}
