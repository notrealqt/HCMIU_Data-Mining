{
 "cells": [
  {
   "metadata": {
    "ExecuteTime": {
     "end_time": "2025-04-18T05:17:51.632182Z",
     "start_time": "2025-04-18T05:17:49.091500Z"
    }
   },
   "cell_type": "code",
   "source": [
    "import pandas as pd\n",
    "import os\n",
    "\n",
    "review_data = pd.DataFrame()\n",
    "\n",
    "for i in range(1, 10):\n",
    "    file_path = os.path.join('review', f'steam_game_reviews_part_{i}.csv')\n",
    "\n",
    "    if os.path.exists(file_path):\n",
    "        print(f'File found: {os.path.abspath(file_path)}')\n",
    "        part_data = pd.read_csv(file_path)\n",
    "        review_data = pd.concat([review_data, part_data], ignore_index=True)\n",
    "    else:\n",
    "        print(f'File not found: {os.path.abspath(file_path)}')\n",
    "\n",
    "if review_data.empty:\n",
    "    print(\"Error: No game data loaded.\")\n",
    "else:\n",
    "    print(f\"Successfully loaded {len(review_data)} rows.\")"
   ],
   "id": "8a3e8fee4dd84646",
   "outputs": [
    {
     "name": "stdout",
     "output_type": "stream",
     "text": [
      "File found: D:\\data-mining-hcmiu\\review\\steam_game_reviews_part_1.csv\n",
      "File found: D:\\data-mining-hcmiu\\review\\steam_game_reviews_part_2.csv\n",
      "File found: D:\\data-mining-hcmiu\\review\\steam_game_reviews_part_3.csv\n",
      "File found: D:\\data-mining-hcmiu\\review\\steam_game_reviews_part_4.csv\n",
      "File found: D:\\data-mining-hcmiu\\review\\steam_game_reviews_part_5.csv\n",
      "File found: D:\\data-mining-hcmiu\\review\\steam_game_reviews_part_6.csv\n",
      "File found: D:\\data-mining-hcmiu\\review\\steam_game_reviews_part_7.csv\n",
      "File found: D:\\data-mining-hcmiu\\review\\steam_game_reviews_part_8.csv\n",
      "File found: D:\\data-mining-hcmiu\\review\\steam_game_reviews_part_9.csv\n",
      "Successfully loaded 322003 rows.\n"
     ]
    }
   ],
   "execution_count": 13
  },
  {
   "metadata": {
    "ExecuteTime": {
     "end_time": "2025-04-18T05:17:51.679904Z",
     "start_time": "2025-04-18T05:17:51.664036Z"
    }
   },
   "cell_type": "code",
   "source": "review_data.head()",
   "id": "b68d31cf951145fd",
   "outputs": [
    {
     "data": {
      "text/plain": [
       "    app_id  recommendationid  \\\n",
       "0  2686990         152851098   \n",
       "1  2686990         163997328   \n",
       "2  2686980         180252847   \n",
       "3  2687000         185616026   \n",
       "4  2686950         187429815   \n",
       "\n",
       "                                              review  voted_up  \\\n",
       "0  This game right here people...  THIS LITTLE AM...      True   \n",
       "1                                       Recommended.      True   \n",
       "2  If you like Watermelon Game but are into space...      True   \n",
       "3  i peed myself playing this. 10/10. fairly good...      True   \n",
       "4    Super fun platformer! Really funny writing too!      True   \n",
       "\n",
       "   timestamp_created  playtime_forever  weighted_vote_score  votes_up  \\\n",
       "0         1701667101             589.0             0.345303         4   \n",
       "1         1714578984              93.0             0.500000         0   \n",
       "2         1732770815              89.0             0.500000         0   \n",
       "3         1736903148              13.0             0.500000         0   \n",
       "4         1738982393               7.0             0.523810         4   \n",
       "\n",
       "             steamid  \n",
       "0  76561198053422627  \n",
       "1  76561198104503662  \n",
       "2  76561198066151919  \n",
       "3  76561199411862329  \n",
       "4  76561198088325844  "
      ],
      "text/html": [
       "<div>\n",
       "<style scoped>\n",
       "    .dataframe tbody tr th:only-of-type {\n",
       "        vertical-align: middle;\n",
       "    }\n",
       "\n",
       "    .dataframe tbody tr th {\n",
       "        vertical-align: top;\n",
       "    }\n",
       "\n",
       "    .dataframe thead th {\n",
       "        text-align: right;\n",
       "    }\n",
       "</style>\n",
       "<table border=\"1\" class=\"dataframe\">\n",
       "  <thead>\n",
       "    <tr style=\"text-align: right;\">\n",
       "      <th></th>\n",
       "      <th>app_id</th>\n",
       "      <th>recommendationid</th>\n",
       "      <th>review</th>\n",
       "      <th>voted_up</th>\n",
       "      <th>timestamp_created</th>\n",
       "      <th>playtime_forever</th>\n",
       "      <th>weighted_vote_score</th>\n",
       "      <th>votes_up</th>\n",
       "      <th>steamid</th>\n",
       "    </tr>\n",
       "  </thead>\n",
       "  <tbody>\n",
       "    <tr>\n",
       "      <th>0</th>\n",
       "      <td>2686990</td>\n",
       "      <td>152851098</td>\n",
       "      <td>This game right here people...  THIS LITTLE AM...</td>\n",
       "      <td>True</td>\n",
       "      <td>1701667101</td>\n",
       "      <td>589.0</td>\n",
       "      <td>0.345303</td>\n",
       "      <td>4</td>\n",
       "      <td>76561198053422627</td>\n",
       "    </tr>\n",
       "    <tr>\n",
       "      <th>1</th>\n",
       "      <td>2686990</td>\n",
       "      <td>163997328</td>\n",
       "      <td>Recommended.</td>\n",
       "      <td>True</td>\n",
       "      <td>1714578984</td>\n",
       "      <td>93.0</td>\n",
       "      <td>0.500000</td>\n",
       "      <td>0</td>\n",
       "      <td>76561198104503662</td>\n",
       "    </tr>\n",
       "    <tr>\n",
       "      <th>2</th>\n",
       "      <td>2686980</td>\n",
       "      <td>180252847</td>\n",
       "      <td>If you like Watermelon Game but are into space...</td>\n",
       "      <td>True</td>\n",
       "      <td>1732770815</td>\n",
       "      <td>89.0</td>\n",
       "      <td>0.500000</td>\n",
       "      <td>0</td>\n",
       "      <td>76561198066151919</td>\n",
       "    </tr>\n",
       "    <tr>\n",
       "      <th>3</th>\n",
       "      <td>2687000</td>\n",
       "      <td>185616026</td>\n",
       "      <td>i peed myself playing this. 10/10. fairly good...</td>\n",
       "      <td>True</td>\n",
       "      <td>1736903148</td>\n",
       "      <td>13.0</td>\n",
       "      <td>0.500000</td>\n",
       "      <td>0</td>\n",
       "      <td>76561199411862329</td>\n",
       "    </tr>\n",
       "    <tr>\n",
       "      <th>4</th>\n",
       "      <td>2686950</td>\n",
       "      <td>187429815</td>\n",
       "      <td>Super fun platformer! Really funny writing too!</td>\n",
       "      <td>True</td>\n",
       "      <td>1738982393</td>\n",
       "      <td>7.0</td>\n",
       "      <td>0.523810</td>\n",
       "      <td>4</td>\n",
       "      <td>76561198088325844</td>\n",
       "    </tr>\n",
       "  </tbody>\n",
       "</table>\n",
       "</div>"
      ]
     },
     "execution_count": 14,
     "metadata": {},
     "output_type": "execute_result"
    }
   ],
   "execution_count": 14
  },
  {
   "metadata": {
    "ExecuteTime": {
     "end_time": "2025-04-18T05:17:51.832419Z",
     "start_time": "2025-04-18T05:17:51.773799Z"
    }
   },
   "cell_type": "code",
   "source": "review_data.info()",
   "id": "7f4ea22879a53a5b",
   "outputs": [
    {
     "name": "stdout",
     "output_type": "stream",
     "text": [
      "<class 'pandas.core.frame.DataFrame'>\n",
      "RangeIndex: 322003 entries, 0 to 322002\n",
      "Data columns (total 9 columns):\n",
      " #   Column               Non-Null Count   Dtype  \n",
      "---  ------               --------------   -----  \n",
      " 0   app_id               322003 non-null  int64  \n",
      " 1   recommendationid     322003 non-null  int64  \n",
      " 2   review               322003 non-null  object \n",
      " 3   voted_up             322003 non-null  bool   \n",
      " 4   timestamp_created    322003 non-null  int64  \n",
      " 5   playtime_forever     322003 non-null  float64\n",
      " 6   weighted_vote_score  322003 non-null  float64\n",
      " 7   votes_up             322003 non-null  int64  \n",
      " 8   steamid              322003 non-null  int64  \n",
      "dtypes: bool(1), float64(2), int64(5), object(1)\n",
      "memory usage: 20.0+ MB\n"
     ]
    }
   ],
   "execution_count": 15
  },
  {
   "metadata": {
    "ExecuteTime": {
     "end_time": "2025-04-18T05:17:51.927686Z",
     "start_time": "2025-04-18T05:17:51.896222Z"
    }
   },
   "cell_type": "code",
   "source": "review_data.isnull().sum()",
   "id": "57f40b12c2337edc",
   "outputs": [
    {
     "data": {
      "text/plain": [
       "app_id                 0\n",
       "recommendationid       0\n",
       "review                 0\n",
       "voted_up               0\n",
       "timestamp_created      0\n",
       "playtime_forever       0\n",
       "weighted_vote_score    0\n",
       "votes_up               0\n",
       "steamid                0\n",
       "dtype: int64"
      ]
     },
     "execution_count": 16,
     "metadata": {},
     "output_type": "execute_result"
    }
   ],
   "execution_count": 16
  },
  {
   "metadata": {
    "ExecuteTime": {
     "end_time": "2025-04-18T05:21:10.773856Z",
     "start_time": "2025-04-18T05:17:52.054239Z"
    }
   },
   "cell_type": "code",
   "source": [
    "import re\n",
    "import emoji\n",
    "import nltk\n",
    "from nltk.corpus import stopwords\n",
    "\n",
    "nltk.download('stopwords')\n",
    "\n",
    "def clean_text(text):\n",
    "    if not isinstance(text, str):\n",
    "        return \"\"\n",
    "    # Remove URLs\n",
    "    text = re.sub(r'http\\S+', '', text)\n",
    "    # Remove special characters, punctuation, and numbers\n",
    "    text = re.sub(r'[^A-Za-z\\s]', '', text)\n",
    "    # Remove extra spaces\n",
    "    text = re.sub(r'\\s+', ' ', text).strip()\n",
    "    # Remove emojis (using regex instead of iteration)\n",
    "    text = emoji.replace_emoji(text, replace='')  # Removes all emojis\n",
    "    # Convert to lowercase\n",
    "    text = text.lower()\n",
    "    # Remove stopwords\n",
    "    stop_words = set(stopwords.words('english'))\n",
    "    text = ' '.join(word for word in text.split() if word not in stop_words)\n",
    "    return text\n",
    "\n",
    "review_data['review'] = review_data['review'].apply(clean_text)"
   ],
   "id": "e85811ee77ba65b3",
   "outputs": [
    {
     "name": "stderr",
     "output_type": "stream",
     "text": [
      "[nltk_data] Downloading package stopwords to C:\\Users\\Khoi\n",
      "[nltk_data]     Dang\\AppData\\Roaming\\nltk_data...\n",
      "[nltk_data]   Package stopwords is already up-to-date!\n"
     ]
    }
   ],
   "execution_count": 17
  },
  {
   "metadata": {
    "ExecuteTime": {
     "end_time": "2025-04-18T05:21:10.873385Z",
     "start_time": "2025-04-18T05:21:10.857573Z"
    }
   },
   "cell_type": "code",
   "source": "review_data['review'].head()",
   "id": "eec73e5f2812d51d",
   "outputs": [
    {
     "data": {
      "text/plain": [
       "0    game right people little amazing gem exactly r...\n",
       "1                                          recommended\n",
       "2                   like watermelon game space amazing\n",
       "3             peed playing fairly good schizo game tbh\n",
       "4            super fun platformer really funny writing\n",
       "Name: review, dtype: object"
      ]
     },
     "execution_count": 18,
     "metadata": {},
     "output_type": "execute_result"
    }
   ],
   "execution_count": 18
  },
  {
   "metadata": {
    "ExecuteTime": {
     "end_time": "2025-04-18T05:21:10.952334Z",
     "start_time": "2025-04-18T05:21:10.936565Z"
    }
   },
   "cell_type": "code",
   "source": "review_data['voted_up'].head()",
   "id": "10c9b4a92f33cbb3",
   "outputs": [
    {
     "data": {
      "text/plain": [
       "0    True\n",
       "1    True\n",
       "2    True\n",
       "3    True\n",
       "4    True\n",
       "Name: voted_up, dtype: bool"
      ]
     },
     "execution_count": 19,
     "metadata": {},
     "output_type": "execute_result"
    }
   ],
   "execution_count": 19
  },
  {
   "metadata": {
    "ExecuteTime": {
     "end_time": "2025-04-18T05:21:11.130371Z",
     "start_time": "2025-04-18T05:21:11.069656Z"
    }
   },
   "cell_type": "code",
   "source": "review_data['steamid'].value_counts()",
   "id": "e26d1bb6b81138e6",
   "outputs": [
    {
     "data": {
      "text/plain": [
       "steamid\n",
       "76561198030784015    515\n",
       "76561198409134312    499\n",
       "76561198019816374    352\n",
       "76561198158993897    325\n",
       "76561197970193418    281\n",
       "                    ... \n",
       "76561198009430786      1\n",
       "76561197972585129      1\n",
       "76561197990809427      1\n",
       "76561198268398344      1\n",
       "76561198451685253      1\n",
       "Name: count, Length: 244264, dtype: int64"
      ]
     },
     "execution_count": 20,
     "metadata": {},
     "output_type": "execute_result"
    }
   ],
   "execution_count": 20
  },
  {
   "metadata": {
    "ExecuteTime": {
     "end_time": "2025-04-18T05:21:11.293073Z",
     "start_time": "2025-04-18T05:21:11.265184Z"
    }
   },
   "cell_type": "code",
   "source": [
    "mapping_voted_up={\n",
    "    True: 1,\n",
    "    False: 0\n",
    "}\n",
    "review_data['voted_up'] = review_data['voted_up'].map(mapping_voted_up)\n",
    "review_data['voted_up'].head()"
   ],
   "id": "fe34e7368ecc9a77",
   "outputs": [
    {
     "data": {
      "text/plain": [
       "0    1\n",
       "1    1\n",
       "2    1\n",
       "3    1\n",
       "4    1\n",
       "Name: voted_up, dtype: int64"
      ]
     },
     "execution_count": 21,
     "metadata": {},
     "output_type": "execute_result"
    }
   ],
   "execution_count": 21
  },
  {
   "metadata": {
    "ExecuteTime": {
     "end_time": "2025-04-18T05:25:01.067363Z",
     "start_time": "2025-04-18T05:25:01.039579Z"
    }
   },
   "cell_type": "code",
   "source": "review_data.head()",
   "id": "d6f4b060a1256085",
   "outputs": [
    {
     "data": {
      "text/plain": [
       "    app_id  recommendationid  \\\n",
       "0  2686990         152851098   \n",
       "1  2686990         163997328   \n",
       "2  2686980         180252847   \n",
       "3  2687000         185616026   \n",
       "4  2686950         187429815   \n",
       "\n",
       "                                              review  voted_up  \\\n",
       "0  game right people little amazing gem exactly r...         1   \n",
       "1                                        recommended         1   \n",
       "2                 like watermelon game space amazing         1   \n",
       "3           peed playing fairly good schizo game tbh         1   \n",
       "4          super fun platformer really funny writing         1   \n",
       "\n",
       "   timestamp_created  playtime_forever  weighted_vote_score  votes_up  \\\n",
       "0         1701667101             589.0             0.345303         4   \n",
       "1         1714578984              93.0             0.500000         0   \n",
       "2         1732770815              89.0             0.500000         0   \n",
       "3         1736903148              13.0             0.500000         0   \n",
       "4         1738982393               7.0             0.523810         4   \n",
       "\n",
       "             steamid  \n",
       "0  76561198053422627  \n",
       "1  76561198104503662  \n",
       "2  76561198066151919  \n",
       "3  76561199411862329  \n",
       "4  76561198088325844  "
      ],
      "text/html": [
       "<div>\n",
       "<style scoped>\n",
       "    .dataframe tbody tr th:only-of-type {\n",
       "        vertical-align: middle;\n",
       "    }\n",
       "\n",
       "    .dataframe tbody tr th {\n",
       "        vertical-align: top;\n",
       "    }\n",
       "\n",
       "    .dataframe thead th {\n",
       "        text-align: right;\n",
       "    }\n",
       "</style>\n",
       "<table border=\"1\" class=\"dataframe\">\n",
       "  <thead>\n",
       "    <tr style=\"text-align: right;\">\n",
       "      <th></th>\n",
       "      <th>app_id</th>\n",
       "      <th>recommendationid</th>\n",
       "      <th>review</th>\n",
       "      <th>voted_up</th>\n",
       "      <th>timestamp_created</th>\n",
       "      <th>playtime_forever</th>\n",
       "      <th>weighted_vote_score</th>\n",
       "      <th>votes_up</th>\n",
       "      <th>steamid</th>\n",
       "    </tr>\n",
       "  </thead>\n",
       "  <tbody>\n",
       "    <tr>\n",
       "      <th>0</th>\n",
       "      <td>2686990</td>\n",
       "      <td>152851098</td>\n",
       "      <td>game right people little amazing gem exactly r...</td>\n",
       "      <td>1</td>\n",
       "      <td>1701667101</td>\n",
       "      <td>589.0</td>\n",
       "      <td>0.345303</td>\n",
       "      <td>4</td>\n",
       "      <td>76561198053422627</td>\n",
       "    </tr>\n",
       "    <tr>\n",
       "      <th>1</th>\n",
       "      <td>2686990</td>\n",
       "      <td>163997328</td>\n",
       "      <td>recommended</td>\n",
       "      <td>1</td>\n",
       "      <td>1714578984</td>\n",
       "      <td>93.0</td>\n",
       "      <td>0.500000</td>\n",
       "      <td>0</td>\n",
       "      <td>76561198104503662</td>\n",
       "    </tr>\n",
       "    <tr>\n",
       "      <th>2</th>\n",
       "      <td>2686980</td>\n",
       "      <td>180252847</td>\n",
       "      <td>like watermelon game space amazing</td>\n",
       "      <td>1</td>\n",
       "      <td>1732770815</td>\n",
       "      <td>89.0</td>\n",
       "      <td>0.500000</td>\n",
       "      <td>0</td>\n",
       "      <td>76561198066151919</td>\n",
       "    </tr>\n",
       "    <tr>\n",
       "      <th>3</th>\n",
       "      <td>2687000</td>\n",
       "      <td>185616026</td>\n",
       "      <td>peed playing fairly good schizo game tbh</td>\n",
       "      <td>1</td>\n",
       "      <td>1736903148</td>\n",
       "      <td>13.0</td>\n",
       "      <td>0.500000</td>\n",
       "      <td>0</td>\n",
       "      <td>76561199411862329</td>\n",
       "    </tr>\n",
       "    <tr>\n",
       "      <th>4</th>\n",
       "      <td>2686950</td>\n",
       "      <td>187429815</td>\n",
       "      <td>super fun platformer really funny writing</td>\n",
       "      <td>1</td>\n",
       "      <td>1738982393</td>\n",
       "      <td>7.0</td>\n",
       "      <td>0.523810</td>\n",
       "      <td>4</td>\n",
       "      <td>76561198088325844</td>\n",
       "    </tr>\n",
       "  </tbody>\n",
       "</table>\n",
       "</div>"
      ]
     },
     "execution_count": 25,
     "metadata": {},
     "output_type": "execute_result"
    }
   ],
   "execution_count": 25
  },
  {
   "metadata": {
    "ExecuteTime": {
     "end_time": "2025-04-18T05:25:32.536643Z",
     "start_time": "2025-04-18T05:25:32.492963Z"
    }
   },
   "cell_type": "code",
   "source": [
    "review_data.drop(columns=['timestamp_created','weighted_vote_score','votes_up'], inplace=True)\n",
    "review_data.head()"
   ],
   "id": "b7db36d2963b5233",
   "outputs": [
    {
     "data": {
      "text/plain": [
       "    app_id  recommendationid  \\\n",
       "0  2686990         152851098   \n",
       "1  2686990         163997328   \n",
       "2  2686980         180252847   \n",
       "3  2687000         185616026   \n",
       "4  2686950         187429815   \n",
       "\n",
       "                                              review  voted_up  \\\n",
       "0  game right people little amazing gem exactly r...         1   \n",
       "1                                        recommended         1   \n",
       "2                 like watermelon game space amazing         1   \n",
       "3           peed playing fairly good schizo game tbh         1   \n",
       "4          super fun platformer really funny writing         1   \n",
       "\n",
       "   playtime_forever            steamid  \n",
       "0             589.0  76561198053422627  \n",
       "1              93.0  76561198104503662  \n",
       "2              89.0  76561198066151919  \n",
       "3              13.0  76561199411862329  \n",
       "4               7.0  76561198088325844  "
      ],
      "text/html": [
       "<div>\n",
       "<style scoped>\n",
       "    .dataframe tbody tr th:only-of-type {\n",
       "        vertical-align: middle;\n",
       "    }\n",
       "\n",
       "    .dataframe tbody tr th {\n",
       "        vertical-align: top;\n",
       "    }\n",
       "\n",
       "    .dataframe thead th {\n",
       "        text-align: right;\n",
       "    }\n",
       "</style>\n",
       "<table border=\"1\" class=\"dataframe\">\n",
       "  <thead>\n",
       "    <tr style=\"text-align: right;\">\n",
       "      <th></th>\n",
       "      <th>app_id</th>\n",
       "      <th>recommendationid</th>\n",
       "      <th>review</th>\n",
       "      <th>voted_up</th>\n",
       "      <th>playtime_forever</th>\n",
       "      <th>steamid</th>\n",
       "    </tr>\n",
       "  </thead>\n",
       "  <tbody>\n",
       "    <tr>\n",
       "      <th>0</th>\n",
       "      <td>2686990</td>\n",
       "      <td>152851098</td>\n",
       "      <td>game right people little amazing gem exactly r...</td>\n",
       "      <td>1</td>\n",
       "      <td>589.0</td>\n",
       "      <td>76561198053422627</td>\n",
       "    </tr>\n",
       "    <tr>\n",
       "      <th>1</th>\n",
       "      <td>2686990</td>\n",
       "      <td>163997328</td>\n",
       "      <td>recommended</td>\n",
       "      <td>1</td>\n",
       "      <td>93.0</td>\n",
       "      <td>76561198104503662</td>\n",
       "    </tr>\n",
       "    <tr>\n",
       "      <th>2</th>\n",
       "      <td>2686980</td>\n",
       "      <td>180252847</td>\n",
       "      <td>like watermelon game space amazing</td>\n",
       "      <td>1</td>\n",
       "      <td>89.0</td>\n",
       "      <td>76561198066151919</td>\n",
       "    </tr>\n",
       "    <tr>\n",
       "      <th>3</th>\n",
       "      <td>2687000</td>\n",
       "      <td>185616026</td>\n",
       "      <td>peed playing fairly good schizo game tbh</td>\n",
       "      <td>1</td>\n",
       "      <td>13.0</td>\n",
       "      <td>76561199411862329</td>\n",
       "    </tr>\n",
       "    <tr>\n",
       "      <th>4</th>\n",
       "      <td>2686950</td>\n",
       "      <td>187429815</td>\n",
       "      <td>super fun platformer really funny writing</td>\n",
       "      <td>1</td>\n",
       "      <td>7.0</td>\n",
       "      <td>76561198088325844</td>\n",
       "    </tr>\n",
       "  </tbody>\n",
       "</table>\n",
       "</div>"
      ]
     },
     "execution_count": 27,
     "metadata": {},
     "output_type": "execute_result"
    }
   ],
   "execution_count": 27
  },
  {
   "metadata": {
    "ExecuteTime": {
     "end_time": "2025-04-18T05:29:07.005480Z",
     "start_time": "2025-04-18T05:29:04.876002Z"
    }
   },
   "cell_type": "code",
   "source": [
    "import numpy as np\n",
    "\n",
    "# Split the DataFrame into 5 parts\n",
    "split_data = np.array_split(review_data, 5)\n",
    "\n",
    "# Save each part to a separate CSV file\n",
    "for i, part in enumerate(split_data, start=1):\n",
    "    part.to_csv(f'review/cleaned_review/steam_game_review_encoded_part_{i}.csv', index=False)"
   ],
   "id": "38a752db4ccb4bc8",
   "outputs": [
    {
     "name": "stderr",
     "output_type": "stream",
     "text": [
      "C:\\Anaconda\\envs\\mypythonenv\\lib\\site-packages\\numpy\\core\\fromnumeric.py:59: FutureWarning: 'DataFrame.swapaxes' is deprecated and will be removed in a future version. Please use 'DataFrame.transpose' instead.\n",
      "  return bound(*args, **kwds)\n"
     ]
    }
   ],
   "execution_count": 29
  }
 ],
 "metadata": {
  "kernelspec": {
   "display_name": "Python 3",
   "language": "python",
   "name": "python3"
  },
  "language_info": {
   "codemirror_mode": {
    "name": "ipython",
    "version": 2
   },
   "file_extension": ".py",
   "mimetype": "text/x-python",
   "name": "python",
   "nbconvert_exporter": "python",
   "pygments_lexer": "ipython2",
   "version": "2.7.6"
  }
 },
 "nbformat": 4,
 "nbformat_minor": 5
}
