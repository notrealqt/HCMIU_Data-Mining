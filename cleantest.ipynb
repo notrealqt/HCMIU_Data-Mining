{
 "cells": [
  {
   "cell_type": "code",
   "id": "initial_id",
   "metadata": {
    "collapsed": true,
    "ExecuteTime": {
     "end_time": "2025-03-04T16:22:12.507932Z",
     "start_time": "2025-03-04T16:22:06.589175Z"
    }
   },
   "source": [
    "import pandas\n",
    "data = pandas.read_csv(\"steam_game_descriptions_test_20250304_125622.csv\")\n",
    "data.count()"
   ],
   "outputs": [
    {
     "data": {
      "text/plain": [
       "app_id          49488\n",
       "name            45444\n",
       "tags            45390\n",
       "popular_tags    45393\n",
       "all_reviews     23817\n",
       "all_percent     45449\n",
       "all_count       12894\n",
       "release_date    45443\n",
       "developer       45413\n",
       "publisher       43785\n",
       "price           27963\n",
       "description     39588\n",
       "dtype: int64"
      ]
     },
     "execution_count": 4,
     "metadata": {},
     "output_type": "execute_result"
    }
   ],
   "execution_count": 4
  },
  {
   "metadata": {
    "ExecuteTime": {
     "end_time": "2025-03-04T16:22:27.054Z",
     "start_time": "2025-03-04T16:22:26.990033Z"
    }
   },
   "cell_type": "code",
   "source": [
    "data.drop_duplicates(subset=\"name\")\n",
    "data.dropna(subset=[\"name\"], inplace=True)"
   ],
   "id": "655fefd211a4c3eb",
   "outputs": [],
   "execution_count": 5
  },
  {
   "metadata": {
    "ExecuteTime": {
     "end_time": "2025-03-04T16:22:31.123934Z",
     "start_time": "2025-03-04T16:22:31.085417Z"
    }
   },
   "cell_type": "code",
   "source": "data.count()",
   "id": "e88149ceab38607c",
   "outputs": [
    {
     "data": {
      "text/plain": [
       "app_id          45444\n",
       "name            45444\n",
       "tags            45388\n",
       "popular_tags    45388\n",
       "all_reviews     23817\n",
       "all_percent     45444\n",
       "all_count       12894\n",
       "release_date    45438\n",
       "developer       45411\n",
       "publisher       43783\n",
       "price           27525\n",
       "description     39586\n",
       "dtype: int64"
      ]
     },
     "execution_count": 6,
     "metadata": {},
     "output_type": "execute_result"
    }
   ],
   "execution_count": 6
  },
  {
   "metadata": {
    "ExecuteTime": {
     "end_time": "2025-03-04T16:26:34.402671Z",
     "start_time": "2025-03-04T16:26:34.369509Z"
    }
   },
   "cell_type": "code",
   "source": "data.isnull().sum()",
   "id": "b4fad82e0c46c1f9",
   "outputs": [
    {
     "data": {
      "text/plain": [
       "app_id              0\n",
       "name                0\n",
       "tags               56\n",
       "popular_tags       56\n",
       "all_reviews     21627\n",
       "all_percent         0\n",
       "all_count       32550\n",
       "release_date        6\n",
       "developer          33\n",
       "publisher        1661\n",
       "price           17919\n",
       "description      5858\n",
       "dtype: int64"
      ]
     },
     "execution_count": 8,
     "metadata": {},
     "output_type": "execute_result"
    }
   ],
   "execution_count": 8
  },
  {
   "metadata": {
    "ExecuteTime": {
     "end_time": "2025-03-04T16:26:10.112645Z",
     "start_time": "2025-03-04T16:26:09.647102Z"
    }
   },
   "cell_type": "code",
   "source": "data.to_csv(\"steam_game_descriptions_test_20250304_125622_cleaned.csv\", index=False)",
   "id": "e9b2bf26b8d59402",
   "outputs": [],
   "execution_count": 7
  },
  {
   "metadata": {
    "ExecuteTime": {
     "end_time": "2025-03-04T16:41:38.493831Z",
     "start_time": "2025-03-04T16:41:37.757362Z"
    }
   },
   "cell_type": "code",
   "source": "data= pandas.read_csv(\"steam_game_descriptions_test_20250304_222258.csv\")",
   "id": "2707692eae10a003",
   "outputs": [],
   "execution_count": 9
  },
  {
   "metadata": {
    "ExecuteTime": {
     "end_time": "2025-03-04T16:41:49.355319Z",
     "start_time": "2025-03-04T16:41:49.304761Z"
    }
   },
   "cell_type": "code",
   "source": "data.count()",
   "id": "d7a2af94f50de68e",
   "outputs": [
    {
     "data": {
      "text/plain": [
       "app_id            50000\n",
       "name              43898\n",
       "tags              43835\n",
       "popular_tags      43842\n",
       "all_reviews       35761\n",
       "all_percent       43905\n",
       "all_count         24849\n",
       "release_date      43816\n",
       "developer         42996\n",
       "publisher         40542\n",
       "price             38227\n",
       "description       36075\n",
       "recent_reviews        0\n",
       "recent_percent        0\n",
       "recent_count          0\n",
       "dtype: int64"
      ]
     },
     "execution_count": 10,
     "metadata": {},
     "output_type": "execute_result"
    }
   ],
   "execution_count": 10
  },
  {
   "metadata": {
    "ExecuteTime": {
     "end_time": "2025-03-04T16:45:25.388505Z",
     "start_time": "2025-03-04T16:45:25.329178Z"
    }
   },
   "cell_type": "code",
   "source": "data.isnull().sum()",
   "id": "488cf1dd493d6c52",
   "outputs": [
    {
     "data": {
      "text/plain": [
       "app_id                0\n",
       "name               6102\n",
       "tags               6165\n",
       "popular_tags       6158\n",
       "all_reviews       14239\n",
       "all_percent        6095\n",
       "all_count         25151\n",
       "release_date       6184\n",
       "developer          7004\n",
       "publisher          9458\n",
       "price             11773\n",
       "description       13925\n",
       "recent_reviews    50000\n",
       "recent_percent    50000\n",
       "recent_count      50000\n",
       "dtype: int64"
      ]
     },
     "execution_count": 11,
     "metadata": {},
     "output_type": "execute_result"
    }
   ],
   "execution_count": 11
  },
  {
   "metadata": {
    "ExecuteTime": {
     "end_time": "2025-03-04T16:47:03.498656Z",
     "start_time": "2025-03-04T16:47:03.440454Z"
    }
   },
   "cell_type": "code",
   "source": [
    "data.drop_duplicates(subset=\"name\")\n",
    "data.dropna(subset=[\"name\"], inplace=True)"
   ],
   "id": "c0495bddc778b115",
   "outputs": [],
   "execution_count": 12
  },
  {
   "metadata": {
    "ExecuteTime": {
     "end_time": "2025-03-04T17:01:56.938022Z",
     "start_time": "2025-03-04T17:01:56.894023Z"
    }
   },
   "cell_type": "code",
   "source": "data.count()",
   "id": "96796e3d8c6c469d",
   "outputs": [
    {
     "data": {
      "text/plain": [
       "app_id            43898\n",
       "name              43898\n",
       "tags              43835\n",
       "popular_tags      43835\n",
       "all_reviews       35760\n",
       "all_percent       43898\n",
       "all_count         24848\n",
       "release_date      43809\n",
       "developer         42995\n",
       "publisher         40541\n",
       "price             35507\n",
       "description       36073\n",
       "recent_reviews        0\n",
       "recent_percent        0\n",
       "recent_count          0\n",
       "dtype: int64"
      ]
     },
     "execution_count": 13,
     "metadata": {},
     "output_type": "execute_result"
    }
   ],
   "execution_count": 13
  },
  {
   "metadata": {
    "ExecuteTime": {
     "end_time": "2025-03-04T17:07:57.163505Z",
     "start_time": "2025-03-04T17:07:56.255051Z"
    }
   },
   "cell_type": "code",
   "source": "data.to_csv(\"steam_game_descriptions_test_20250304_222258_cleaned.csv\", index=False)",
   "id": "89d0c8b32a46e1ac",
   "outputs": [],
   "execution_count": 14
  }
 ],
 "metadata": {
  "kernelspec": {
   "display_name": "Python 3",
   "language": "python",
   "name": "python3"
  },
  "language_info": {
   "codemirror_mode": {
    "name": "ipython",
    "version": 2
   },
   "file_extension": ".py",
   "mimetype": "text/x-python",
   "name": "python",
   "nbconvert_exporter": "python",
   "pygments_lexer": "ipython2",
   "version": "2.7.6"
  }
 },
 "nbformat": 4,
 "nbformat_minor": 5
}
